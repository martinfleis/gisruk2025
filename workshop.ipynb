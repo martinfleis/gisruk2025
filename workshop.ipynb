{
 "cells": [
  {
   "cell_type": "markdown",
   "id": "d93a254c",
   "metadata": {},
   "source": [
    "this will become a workshop material\n",
    "\n",
    "- Fetch data from OM\n",
    "- Preprocess buildings with geoplanar\n",
    "- Preprocess streets with neatnet\n",
    "\n",
    "- tessellation\n",
    "- data linking\n",
    "\n",
    "- graphs\n",
    "\n",
    "- measurements\n",
    "\n",
    "- clustering\n",
    "\n",
    "- prediction of ???\n",
    "    - spatial stratification based on clusters\n",
    "    - spatial eval of prediction - pull stuff from SDS"
   ]
  },
  {
   "cell_type": "code",
   "execution_count": null,
   "id": "accf6b24",
   "metadata": {},
   "outputs": [],
   "source": []
  }
 ],
 "metadata": {
  "language_info": {
   "name": "python"
  }
 },
 "nbformat": 4,
 "nbformat_minor": 5
}
